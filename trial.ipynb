{
 "cells": [
  {
   "cell_type": "code",
   "execution_count": 187,
   "metadata": {},
   "outputs": [],
   "source": [
    "import os\n",
    "import sys\n"
   ]
  },
  {
   "cell_type": "code",
   "execution_count": 188,
   "metadata": {},
   "outputs": [],
   "source": [
    "REDIRECTORPATH = './src/BlogPostRedirectors/'\n",
    "BLOGPATH = './src/components/BlogPosts/'\n",
    "APPPATH = './src/App.js'\n",
    "CONTENTPATH = './src/components/Content.js'"
   ]
  },
  {
   "cell_type": "code",
   "execution_count": 189,
   "metadata": {},
   "outputs": [],
   "source": [
    "def Modify_AppJS(number, path):\n",
    "    f = open(APPPATH, 'r+')\n",
    "    content = f.read()\n",
    "    dummyline = \" './components/BlogPosts/BlogPost_\"+str(number-1)+\"';\"\n",
    "    lastindexforcomponent = content.rfind('from') + len(dummyline) + 4\n",
    "    lastindexforRoute = content.rfind('</Route>') + len('</Route>')\n",
    "    content_first = content[:lastindexforcomponent]\n",
    "    content_middle = content[lastindexforcomponent:lastindexforRoute]\n",
    "    content_after  = content[lastindexforRoute : ]\n",
    "    f.close()\n",
    "    \n",
    "    fdash = open('./src/App.js', 'w+')\n",
    "    first_line_to_write = \"\\nimport BlogPost_\" + str(number)+ \" from './components/BlogPosts/BlogPost_\"+str(number)+\"';\\n\"\n",
    "    second_line_to_write = '\\n\\t\\t\\t\\t<Route path=\"'+path+'\" element={<BlogPost_'+str(number)+'></BlogPost_'+str(number)+'>}></Route>\\n'\n",
    "    fdash.write(content_first + first_line_to_write +content_middle + second_line_to_write + content_after)\n",
    "    fdash.close()    \n",
    "    "
   ]
  },
  {
   "cell_type": "code",
   "execution_count": 190,
   "metadata": {},
   "outputs": [],
   "source": [
    "def CreateRedirector(number, path):\n",
    "    prevRedirector = REDIRECTORPATH + 'Redirector_' + str(5) + '.js'\n",
    "    redirector = REDIRECTORPATH + 'Redirector_' + str(number) + '.js'\n",
    "    f = open(prevRedirector, 'r')\n",
    "    content = f.read()\n",
    "    word_to_replace = 'Redirector_' + str(number-1)\n",
    "    replace  = 'Redirector_' + str(number)\n",
    "    new = content.replace(word_to_replace, replace)\n",
    "    index = new.find(\"link:\")+len(\"link:\")\n",
    "    index_after = index + len(' \"/revamp\"')\n",
    "    content_before =  new[:index]\n",
    "    content_after = new[index_after:]\n",
    "    refined_content = content_before + '\"' +path +'\"'+ content_after\n",
    "    fdash= open(redirector, 'w+')\n",
    "    fdash.write(refined_content)\n",
    "    fdash.close()    "
   ]
  },
  {
   "cell_type": "code",
   "execution_count": 191,
   "metadata": {},
   "outputs": [],
   "source": [
    "def Modify_ContentJS(number, path):\n",
    "    f = open(CONTENTPATH, 'r+')\n",
    "    content = f.read()\n",
    "\n",
    "    dummyline = \" '../BlogPostRedirectors/Redirector_\"+str(number-1)+\"';\"\n",
    "    red_word= '</Redirector_' + str(number-1) + '>'\n",
    "    lastindexforcomponent = content.rfind('from') + len(dummyline) + 4\n",
    "    lastindexforRoute = content.rfind(red_word) + len(red_word)\n",
    "    content_first = content[:lastindexforcomponent]\n",
    "    content_middle = content[lastindexforcomponent:lastindexforRoute]\n",
    "    content_after  = content[lastindexforRoute : ]\n",
    "    f.close()\n",
    "\n",
    "    fdash = open(CONTENTPATH, 'w+')\n",
    "    first_line_to_write = \"\\nimport Redirector_\" + str(number)+ \" from '../BlogPostRedirectors/Redirector_\"+str(number)+\"';\\n\"\n",
    "    second_line_to_write = '\\n\\t\\t\\t\\t\\t\\t<Redirector_'+str(number)+'></Redirector_'+str(number)+'>\\n'\n",
    "    fdash.write(content_first + first_line_to_write +content_middle + second_line_to_write + content_after)\n",
    "    fdash.close()    "
   ]
  },
  {
   "cell_type": "code",
   "execution_count": 192,
   "metadata": {},
   "outputs": [],
   "source": [
    "def CreateBlogJS(number, path):\n",
    "    \n",
    "    BLOGSTRING = \"import TitleBar from '../TitleBar';\\n\"+\\\n",
    "    \"import Header from '../Header';\\n\"+\\\n",
    "    \"import Footer from '../Footer';\\n\"+\\\n",
    "    \"import ImageComponent from '../ImageComponent';\\n\\n\\n\"+\\\n",
    "    \"function BlogPost_\"+str(number)+\"(){\\n\"+\\\n",
    "        \"\\t\\treturn (\\n\"+\\\n",
    "        \"\\t\\t\\t\\t<>\\n\"+\\\n",
    "            \"\\t\\t\\t\\t\\t<Header></Header>\\n\"+\\\n",
    "            \"\\t\\t\\t\\t\\t\\t<div id='wrapper' className='mx-[200px]'>\\n\"+\\\n",
    "            \"\\t\\t\\t\\t\\t\\t<p className='text-gray-600 prompt'>The quote above tells everything, I guess.....\\n\"+\\\n",
    "                \"\\t\\t\\t\\t\\t\\t\\t<br></br>\\n\"+\\\n",
    "                \"\\t\\t\\t\\t\\t\\t\\t<br></br>\\n\"+\\\n",
    "            \"\\t\\t\\t\\t\\t\\t\\t</p>\\n\"+\\\n",
    "            \"\\t\\t\\t\\t\\t</div>\\n\"+\\\n",
    "            \"\\t\\t\\t\\t\\t<Footer></Footer>\\n\"+\\\n",
    "            \"\\t\\t\\t\\t</>\\n\"+\\\n",
    "        \"\\t\\t);\\n\"+\\\n",
    "    \"}\\n\\n\"+\\\n",
    "    \"export default BlogPost_\"+str(number)+\";\"\n",
    "    \n",
    "    blogpath = 'src\\components\\BlogPosts\\BlogPost_'+str(number)+'.js'\n",
    "    f = open(blogpath, 'w+')\n",
    "    f.write(BLOGSTRING)\n",
    "    f.close()    \n",
    "    \n",
    "    \n",
    "    \n",
    "    "
   ]
  },
  {
   "cell_type": "code",
   "execution_count": 193,
   "metadata": {},
   "outputs": [],
   "source": [
    "def Execute(number,path):\n",
    "    CreateRedirector(number,path)\n",
    "    CreateBlogJS(number,path)\n",
    "    Modify_AppJS(number,path)\n",
    "    Modify_ContentJS(number,path)\n"
   ]
  },
  {
   "cell_type": "code",
   "execution_count": 194,
   "metadata": {},
   "outputs": [],
   "source": [
    "Execute(6,\"/mg\")"
   ]
  },
  {
   "cell_type": "code",
   "execution_count": null,
   "metadata": {},
   "outputs": [],
   "source": []
  }
 ],
 "metadata": {
  "kernelspec": {
   "display_name": "Python 3",
   "language": "python",
   "name": "python3"
  },
  "language_info": {
   "codemirror_mode": {
    "name": "ipython",
    "version": 3
   },
   "file_extension": ".py",
   "mimetype": "text/x-python",
   "name": "python",
   "nbconvert_exporter": "python",
   "pygments_lexer": "ipython3",
   "version": "3.11.5"
  }
 },
 "nbformat": 4,
 "nbformat_minor": 2
}
